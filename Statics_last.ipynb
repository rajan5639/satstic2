{
  "nbformat": 4,
  "nbformat_minor": 0,
  "metadata": {
    "colab": {
      "provenance": [],
      "authorship_tag": "ABX9TyM8kwINWoJou8WQ+VNc+4aT",
      "include_colab_link": true
    },
    "kernelspec": {
      "name": "python3",
      "display_name": "Python 3"
    },
    "language_info": {
      "name": "python"
    }
  },
  "cells": [
    {
      "cell_type": "markdown",
      "metadata": {
        "id": "view-in-github",
        "colab_type": "text"
      },
      "source": [
        "<a href=\"https://colab.research.google.com/github/rajan5639/satstic2/blob/main/Statics_last.ipynb\" target=\"_parent\"><img src=\"https://colab.research.google.com/assets/colab-badge.svg\" alt=\"Open In Colab\"/></a>"
      ]
    },
    {
      "cell_type": "code",
      "execution_count": null,
      "metadata": {
        "id": "EKtVkzx8ids5"
      },
      "outputs": [],
      "source": [
        "# 1. Generate a list of 100 integers containing values between 90 to 130 and store it in the variable `int_list`. After generating the list, find the following:\n",
        "#  (i) Write a Python function to calculate the mean of a given list of numbers. Create a function to find the median of a list of numbers.\n",
        "#   (ii) Develop a program to compute the mode of a list of integers.\n",
        "#    (iii) Implement a function to calculate the weighted mean of a list of values and their corresponding weights.\n",
        "#     (iv) Write a Python function to find the geometric mean of a list of positive numbers.\n",
        "#  (v) Create a program to calculate the harmonic mean of a list of values.\n",
        "#   (vi) Build a function to determine the midrange of a list of numbers (average of the minimum and maximum).\n",
        "#    (vii) Implement a Python program to find the trimmed mean of a list, excluding a certain percentage of outliers."
      ]
    },
    {
      "cell_type": "code",
      "source": [
        "def mean(numbers):\n",
        "    \"\"\"Calculates the mean (average) of a list of numbers.\n",
        "\n",
        "    Args:\n",
        "        numbers: A list of numbers.\n",
        "\n",
        "    Returns:\n",
        "        The mean of the numbers. 1\n",
        "    \"\"\"\n",
        "\n",
        "    if not numbers:\n",
        "        return None  # Handle empty list case\n",
        "\n",
        "    return sum(numbers) / len(numbers)\n",
        "\n",
        "def median(numbers):\n",
        "    \"\"\"Calculates the median of a list of numbers.\n",
        "\n",
        "    Args:\n",
        "        numbers: A list of numbers.\n",
        "\n",
        "    Returns:\n",
        "        The median of the numbers.\n",
        "    \"\"\"\n",
        "\n",
        "    if not numbers:\n",
        "        return None  # Handle empty list case\n",
        "\n",
        "    numbers.sort()\n",
        "    n = len(numbers)\n",
        "    mid = n // 2\n",
        "\n",
        "    if n % 2 == 0:\n",
        "        return (numbers[mid - 1] + numbers[mid]) / 2\n",
        "    else:\n",
        "        return numbers[mid]\n",
        "\n",
        "# Example usage:\n",
        "my_numbers = [1, 2, 3, 4, 5,8,9,9.5]\n",
        "print(\"Mean:\", mean(my_numbers))\n",
        "print(\"Median:\", median(my_numbers))"
      ],
      "metadata": {
        "colab": {
          "base_uri": "https://localhost:8080/"
        },
        "id": "vKTQobFSjR-x",
        "outputId": "282cdaa1-eab7-431a-ba12-8de09e1b7b85"
      },
      "execution_count": 1,
      "outputs": [
        {
          "output_type": "stream",
          "name": "stdout",
          "text": [
            "Mean: 3.0\n",
            "Median: 3\n"
          ]
        }
      ]
    },
    {
      "cell_type": "code",
      "source": [
        "from collections import Counter\n",
        "\n",
        "def find_mode(numbers):\n",
        "\n",
        "\n",
        "    if not numbers:\n",
        "        return []\n",
        "\n",
        "    # Count the occurrences of each number\n",
        "    counts = Counter(numbers)\n",
        "\n",
        "    # Find the maximum count\n",
        "    max_count = max(counts.values())\n",
        "\n",
        "    # Find the numbers with 1  the maximum count\n",
        "    modes = [num for num, count in counts.items() if count == max_count]\n",
        "\n",
        "    return modes\n",
        "\n",
        "# Example usage:\n",
        "numbers = [1, 2, 3, 2, 1, 4, 2]\n",
        "modes = find_mode(numbers)\n",
        "\n",
        "if modes:\n",
        "    print(\"Mode(s):\", modes)\n",
        "else:\n",
        "    print(\"No mode found.\")"
      ],
      "metadata": {
        "colab": {
          "base_uri": "https://localhost:8080/"
        },
        "id": "99lmkuNMjTzx",
        "outputId": "f457ca91-4c54-44e1-a527-2cb25b1c5248"
      },
      "execution_count": 2,
      "outputs": [
        {
          "output_type": "stream",
          "name": "stdout",
          "text": [
            "Mode(s): [2]\n"
          ]
        }
      ]
    },
    {
      "cell_type": "code",
      "source": [
        "def weighted_mean(values, weights):\n",
        "\n",
        "\n",
        "    if len(values) != len(weights):\n",
        "        raise ValueError(\"The lengths of values and weights must be equal.\")\n",
        "\n",
        "    weighted_sum = sum(value * weight for value, weight in zip(values, weights))\n",
        "    total_weight = sum(weights)\n",
        "\n",
        "    return weighted_sum / total_weight\n",
        "\n",
        "# Example usage:\n",
        "values = [10, 20, 30]\n",
        "weights = [2, 3, 1]\n",
        "\n",
        "weighted_mean_result = weighted_mean(values, weights)\n",
        "print(\"Weighted mean:\", weighted_mean_result)"
      ],
      "metadata": {
        "colab": {
          "base_uri": "https://localhost:8080/"
        },
        "id": "5mKjWFKvkTcj",
        "outputId": "07d12475-4d32-4618-fa3d-e71250980f7b"
      },
      "execution_count": 4,
      "outputs": [
        {
          "output_type": "stream",
          "name": "stdout",
          "text": [
            "Weighted mean: 18.333333333333332\n"
          ]
        }
      ]
    },
    {
      "cell_type": "code",
      "source": [
        "import math\n",
        "\n",
        "def geometric_mean(numbers):\n",
        "\n",
        "\n",
        "    if any(num <= 0 for num in numbers):\n",
        "        raise ValueError(\"All numbers must be positive.\")\n",
        "\n",
        "    product = 1\n",
        "    for num in numbers:\n",
        "        product *= num\n",
        "\n",
        "    return math.pow(product, 1 / len(numbers))\n",
        "\n",
        "# Example usage:\n",
        "numbers = [2, 4, 8, 16]\n",
        "geometric_mean_result = geometric_mean(numbers)\n",
        "print(\"Geometric mean:\", geometric_mean_result)"
      ],
      "metadata": {
        "colab": {
          "base_uri": "https://localhost:8080/"
        },
        "id": "EjsCDR0QkneE",
        "outputId": "6e854e9c-5eba-492d-9b0a-13311245879d"
      },
      "execution_count": 5,
      "outputs": [
        {
          "output_type": "stream",
          "name": "stdout",
          "text": [
            "Geometric mean: 5.656854249492381\n"
          ]
        }
      ]
    },
    {
      "cell_type": "code",
      "source": [
        "def harmonic_mean(numbers):\n",
        "\n",
        "\n",
        "    if any(num <= 0 for num in numbers):\n",
        "        raise ValueError(\"All numbers must be positive.\")\n",
        "\n",
        "    harmonic_sum = 0\n",
        "    for num in numbers:\n",
        "        harmonic_sum += 1 / num\n",
        "\n",
        "    return len(numbers) / harmonic_sum\n",
        "\n",
        "# Example usage:\n",
        "numbers = [2, 3, 4, 5]\n",
        "harmonic_mean_result = harmonic_mean(numbers)\n",
        "print(\"Harmonic mean:\", harmonic_mean_result)"
      ],
      "metadata": {
        "colab": {
          "base_uri": "https://localhost:8080/"
        },
        "id": "c9RNUF-Hk4ml",
        "outputId": "c36e1ebe-bc4e-4837-f36c-22cd40f4012c"
      },
      "execution_count": 6,
      "outputs": [
        {
          "output_type": "stream",
          "name": "stdout",
          "text": [
            "Harmonic mean: 3.116883116883117\n"
          ]
        }
      ]
    },
    {
      "cell_type": "code",
      "source": [
        "def midrange(numbers):\n",
        "\n",
        "\n",
        "    if not numbers:\n",
        "        raise ValueError(\"List cannot be empty.\")\n",
        "\n",
        "    minimum = min(numbers)\n",
        "    maximum = max(numbers)\n",
        "\n",
        "    return (minimum + maximum) / 2\n",
        "\n",
        "# Example usage:\n",
        "numbers = [10, 20, 30, 40, 50]\n",
        "midrange_result = midrange(numbers)\n",
        "print(\"Midrange:\", midrange_result)"
      ],
      "metadata": {
        "colab": {
          "base_uri": "https://localhost:8080/"
        },
        "id": "d3ClA9OAlMxw",
        "outputId": "ea9260bd-2c94-4da2-81e0-b7a7c45b2da6"
      },
      "execution_count": 7,
      "outputs": [
        {
          "output_type": "stream",
          "name": "stdout",
          "text": [
            "Midrange: 30.0\n"
          ]
        }
      ]
    },
    {
      "cell_type": "code",
      "source": [
        "import numpy as np\n",
        "\n",
        "def trimmed_mean(data, proportion_to_cut=0.1):\n",
        "\n",
        "\n",
        "    if not data:\n",
        "        raise ValueError(\"Data list cannot be empty.\")\n",
        "\n",
        "    sorted_data = np.sort(data)\n",
        "    n = len(sorted_data)\n",
        "    k = int(n * proportion_to_cut)\n",
        "\n",
        "    trimmed_data = sorted_data[k:-k]\n",
        "    return np.mean(trimmed_data)\n",
        "\n",
        "# Example usage:\n",
        "data = [1, 2, 3, 4, 5, 100, 200]\n",
        "trimmed_mean_result = trimmed_mean(data, proportion_to_cut=0.2)\n",
        "print(\"Trimmed mean:\", trimmed_mean_result)"
      ],
      "metadata": {
        "colab": {
          "base_uri": "https://localhost:8080/"
        },
        "id": "KEPefQ0GmJ1C",
        "outputId": "7d3f6e8f-f4c3-41f3-8855-0bdf6d9220fe"
      },
      "execution_count": 8,
      "outputs": [
        {
          "output_type": "stream",
          "name": "stdout",
          "text": [
            "Trimmed mean: 22.8\n"
          ]
        }
      ]
    },
    {
      "cell_type": "code",
      "source": [
        "# 2. Generate a list of 500 integers containing values between 200 to 300 and store it in the variable `int_list2`. After generating the list, find the following:\n",
        "# (i) Compare the given list of visualization for the given data: 1. Frequency & Gaussian distribution 2. Frequency smoothened KDE plot 3. Gaussian distribution & smoothened KDE plot\n",
        "# (ii) Write a Python function to calculate the range of a given list of numbers.\n",
        "# (iii) Create a program to find the variance and standard deviation of a list of numbers.\n",
        "# (iv) Implement a function to compute the interquartile range (IQR) of a list of values.\n",
        "# (v) Build a program to calculate the coefficient of variation for a dataset.\n",
        "# (vi) Write a Python function to find the mean absolute deviation (MAD) of a list of numbers.\n",
        "# (vii) Create a program to calculate the quartile deviation of a list of values.\n",
        "# (viii) Implement a function to find the range-based coefficient of dispersion for a dataset."
      ],
      "metadata": {
        "id": "oypvGkJvmiy4"
      },
      "execution_count": null,
      "outputs": []
    },
    {
      "cell_type": "code",
      "source": [
        "# Let's analyze the three visualization techniques you've mentioned:\n",
        "\n",
        "# Frequency & Gaussian Distribution:\n",
        "\n",
        "# Pros:\n",
        "# Simple and intuitive.\n",
        "# Clearly shows the raw data distribution.\n",
        "# The Gaussian distribution overlay provides a theoretical reference.\n",
        "# Cons:\n",
        "# Can be noisy, especially for smaller datasets.\n",
        "# The Gaussian distribution might not always be a good fit for the data.\n",
        "# Frequency Smoothened KDE Plot:\n",
        "\n",
        "# Pros:\n",
        "# Smooths out the noise in the raw data.\n",
        "# Provides a more accurate representation of the underlying distribution.\n",
        "# Can reveal subtle patterns that might be missed in a simple histogram.\n",
        "# Cons:\n",
        "# Can be sensitive to the choice of bandwidth parameter.\n",
        "# Might oversmooth the data, leading to loss of detail.\n",
        "# Gaussian Distribution & Smoothened KDE Plot:\n",
        "\n",
        "# Pros:\n",
        "# Combines the best of both worlds: the theoretical reference of the Gaussian distribution and the smoothed empirical distribution of the KDE.\n",
        "# Can help identify deviations from normality.\n",
        "# Cons:\n",
        "# Can be visually cluttered if not used judiciously.\n",
        "# The Gaussian distribution might not always be a good fit for the data.\n",
        "# Choosing the Right Visualization:\n",
        "\n",
        "# The best visualization technique depends on the specific goals of your analysis:\n",
        "\n",
        "# Understanding the raw data: A simple frequency histogram with a Gaussian overlay can be sufficient.\n",
        "# Revealing underlying patterns: A smoothed KDE plot can be more effective in highlighting subtle trends.\n",
        "# Comparing distributions: Overlaying multiple KDE plots can help visualize differences between distributions.\n",
        "# Assessing normality: Comparing the data distribution to a Gaussian distribution can help determine if the data is normally distributed.\n",
        "\n",
        "# 1\n"
      ],
      "metadata": {
        "id": "Ib2B27Gxnn4K"
      },
      "execution_count": null,
      "outputs": []
    },
    {
      "cell_type": "code",
      "source": [
        "ii"
      ],
      "metadata": {
        "id": "NTbNTyQ4rS4r"
      },
      "execution_count": null,
      "outputs": []
    },
    {
      "cell_type": "code",
      "source": [
        "def calculate_range(numbers):\n",
        "\n",
        "\n",
        "  if not numbers:\n",
        "    raise ValueError(\"List cannot be empty\")\n",
        "\n",
        "  return max(numbers) - min(numbers)\n",
        "\n",
        "# Example usage:\n",
        "numbers = [10, 20, 30, 40, 50]\n",
        "range_result = calculate_range(numbers)\n",
        "print(\"Range:\", range_result)"
      ],
      "metadata": {
        "colab": {
          "base_uri": "https://localhost:8080/"
        },
        "id": "2YN99MIsn8Xy",
        "outputId": "fab24568-41a1-49cb-9d12-8469ab9f264e"
      },
      "execution_count": 10,
      "outputs": [
        {
          "output_type": "stream",
          "name": "stdout",
          "text": [
            "Range: 40\n"
          ]
        }
      ]
    },
    {
      "cell_type": "code",
      "source": [
        "iii"
      ],
      "metadata": {
        "id": "k2qgtkBfrKhT"
      },
      "execution_count": null,
      "outputs": []
    },
    {
      "cell_type": "code",
      "source": [
        "import statistics\n",
        "\n",
        "def calculate_variance_and_std_deviation(numbers):\n",
        "\n",
        "\n",
        "  if not numbers:\n",
        "    raise ValueError(\"List cannot be empty\")\n",
        "\n",
        "  variance = statistics.variance(numbers)\n",
        "  std_deviation = statistics.stdev(numbers)\n",
        "\n",
        "  return variance, std_deviation\n",
        "\n",
        "# Example usage:\n",
        "numbers = [10, 20, 30, 40, 50]\n",
        "variance, std_deviation = calculate_variance_and_std_deviation(numbers)\n",
        "print(\"Variance:\", variance)\n",
        "print(\"Standard Deviation:\", std_deviation)"
      ],
      "metadata": {
        "colab": {
          "base_uri": "https://localhost:8080/"
        },
        "id": "WrysPgfro3x1",
        "outputId": "7849bc69-8526-462e-bd64-2faed10b15c7"
      },
      "execution_count": 11,
      "outputs": [
        {
          "output_type": "stream",
          "name": "stdout",
          "text": [
            "Variance: 250\n",
            "Standard Deviation: 15.811388300841896\n"
          ]
        }
      ]
    },
    {
      "cell_type": "code",
      "source": [
        "iv"
      ],
      "metadata": {
        "id": "3XlkRmKOrJW-"
      },
      "execution_count": null,
      "outputs": []
    },
    {
      "cell_type": "code",
      "source": [
        "import numpy as np\n",
        "\n",
        "def calculate_iqr(data):\n",
        "\n",
        "\n",
        "  if not data:\n",
        "    raise ValueError(\"Data list cannot be empty\")\n",
        "\n",
        "  sorted_data = np.sort(data)\n",
        "  q1 = np.percentile(sorted_data, 25)\n",
        "  q3 = np.percentile(sorted_data, 75)\n",
        "\n",
        "  return q3 - q1\n",
        "\n",
        "# Example usage:\n",
        "data = [1, 2, 3, 4, 5, 10, 20, 30, 40, 50]\n",
        "iqr = calculate_iqr(data)\n",
        "print(\"Interquartile Range (IQR):\", iqr)"
      ],
      "metadata": {
        "colab": {
          "base_uri": "https://localhost:8080/"
        },
        "id": "NIybqHYUo61Q",
        "outputId": "f1bc8144-c358-4ced-b7e5-aa564ad29bf8"
      },
      "execution_count": 12,
      "outputs": [
        {
          "output_type": "stream",
          "name": "stdout",
          "text": [
            "Interquartile Range (IQR): 24.25\n"
          ]
        }
      ]
    },
    {
      "cell_type": "code",
      "source": [
        "v"
      ],
      "metadata": {
        "id": "Z19VYovKrIVw"
      },
      "execution_count": null,
      "outputs": []
    },
    {
      "cell_type": "code",
      "source": [
        "import statistics\n",
        "\n",
        "def calculate_coefficient_of_variation(data):\n",
        "\n",
        "\n",
        "  if not data:\n",
        "    raise ValueError(\"Data list cannot be empty\")\n",
        "\n",
        "  if any(value <= 0 for value in data):\n",
        "    raise ValueError(\"All values must be positive\")\n",
        "\n",
        "  mean = statistics.mean(data)\n",
        "  std_dev = statistics.stdev(data)\n",
        "\n",
        "  coefficient_of_variation = (std_dev / mean) * 100\n",
        "\n",
        "  return coefficient_of_variation\n",
        "\n",
        "# Example usage:\n",
        "data = [10, 20, 30, 40, 50]\n",
        "cv = calculate_coefficient_of_variation(data)\n",
        "print(\"Coefficient of Variation:\", cv)"
      ],
      "metadata": {
        "colab": {
          "base_uri": "https://localhost:8080/"
        },
        "id": "m9McYXowpfrH",
        "outputId": "47f80e10-6730-406e-b4fc-b2a2b7fb5539"
      },
      "execution_count": 13,
      "outputs": [
        {
          "output_type": "stream",
          "name": "stdout",
          "text": [
            "Coefficient of Variation: 52.70462766947299\n"
          ]
        }
      ]
    },
    {
      "cell_type": "code",
      "source": [
        "(vi) Write a Python function to find the mean absolute deviation (MAD) of a list of numbers.\n"
      ],
      "metadata": {
        "id": "_JpqB1-apwxm"
      },
      "execution_count": null,
      "outputs": []
    },
    {
      "cell_type": "code",
      "source": [
        "import statistics\n",
        "\n",
        "def calculate_mad(data):\n",
        "\n",
        "\n",
        "  if not data:\n",
        "    raise ValueError(\"Data list cannot be empty\")\n",
        "\n",
        "  mean = statistics.mean(data)\n",
        "  mad = sum(abs(x - mean) for x in data) / len(data)\n",
        "\n",
        "  return mad\n",
        "\n",
        "# Example usage:\n",
        "data = [1, 2, 3, 4, 5]\n",
        "mad = calculate_mad(data)\n",
        "print(\"Mean Absolute Deviation (MAD):\", mad)"
      ],
      "metadata": {
        "colab": {
          "base_uri": "https://localhost:8080/"
        },
        "id": "jpv4Ne-pqCD0",
        "outputId": "dd542206-c23f-4b45-e181-9a9310a43a37"
      },
      "execution_count": 14,
      "outputs": [
        {
          "output_type": "stream",
          "name": "stdout",
          "text": [
            "Mean Absolute Deviation (MAD): 1.2\n"
          ]
        }
      ]
    },
    {
      "cell_type": "code",
      "source": [
        "vii"
      ],
      "metadata": {
        "id": "eE5aDAOZrFhy"
      },
      "execution_count": null,
      "outputs": []
    },
    {
      "cell_type": "code",
      "source": [
        "import numpy as np\n",
        "\n",
        "def calculate_quartile_deviation(data):\n",
        "\n",
        "\n",
        "  if not data:\n",
        "    raise ValueError(\"Data list cannot be empty\")\n",
        "\n",
        "  sorted_data = np.sort(data)\n",
        "  q1 = np.percentile(sorted_data, 25)\n",
        "  q3 = np.percentile(sorted_data, 75)\n",
        "\n",
        "  quartile_deviation = (q3 - q1) / 2\n",
        "\n",
        "  return quartile_deviation\n",
        "\n",
        "# Example usage:\n",
        "data = [1, 2, 3, 4, 5, 10, 20, 30, 40, 50]\n",
        "quartile_deviation = calculate_quartile_deviation(data)\n",
        "print(\"Quartile Deviation:\", quartile_deviation)"
      ],
      "metadata": {
        "colab": {
          "base_uri": "https://localhost:8080/"
        },
        "id": "p8qn0YHbqD_R",
        "outputId": "089b267c-e6f0-40aa-9ae4-1e792c299266"
      },
      "execution_count": 15,
      "outputs": [
        {
          "output_type": "stream",
          "name": "stdout",
          "text": [
            "Quartile Deviation: 12.125\n"
          ]
        }
      ]
    },
    {
      "cell_type": "code",
      "source": [
        "(viii) Implement a function to find the range-based coefficient of dispersion for a dataset."
      ],
      "metadata": {
        "id": "b1utTsuiqbKJ"
      },
      "execution_count": null,
      "outputs": []
    },
    {
      "cell_type": "code",
      "source": [
        "def calculate_range_based_coefficient_of_dispersion(data):\n",
        "\n",
        "\n",
        "  if not data:\n",
        "    raise ValueError(\"Data list cannot be empty\")\n",
        "\n",
        "  range_value = max(data) - min(data)\n",
        "  mean = sum(data) / len(data)\n",
        "\n",
        "  range_based_coefficient_of_dispersion = range_value / mean\n",
        "\n",
        "  return range_based_coefficient_of_dispersion\n",
        "\n",
        "# Example usage:\n",
        "data = [10, 20, 30, 40, 50]\n",
        "coefficient_of_dispersion = calculate_range_based_coefficient_of_dispersion(data)\n",
        "print(\"Range-Based Coefficient of Dispersion:\", coefficient_of_dispersion)"
      ],
      "metadata": {
        "colab": {
          "base_uri": "https://localhost:8080/"
        },
        "id": "4ICw45jKqgUh",
        "outputId": "d188769a-ea1a-482b-da28-5516f9f70f21"
      },
      "execution_count": 16,
      "outputs": [
        {
          "output_type": "stream",
          "name": "stdout",
          "text": [
            "Range-Based Coefficient of Dispersion: 1.3333333333333333\n"
          ]
        }
      ]
    },
    {
      "cell_type": "code",
      "source": [],
      "metadata": {
        "id": "PER4e7Siq8za"
      },
      "execution_count": null,
      "outputs": []
    },
    {
      "cell_type": "code",
      "source": [
        "# 3. Write a Python class representing a discrete random variable with methods to calculate its expected value and variance.\n",
        "# 4. Implement a program to simulate the rolling of a fair six-sided die and calculate the expected value and variance of the outcomes.\n",
        "# 5 Create a Python function to generate random samples from a given probability distribution (e.g., binomial, Poisson) and calculate their mean and variance.\n",
        "#  6 Write a Python script to generate random numbers from a Gaussian (normal) distribution and compute the mean, variance, and standard deviation of the samples.\n",
        "#  7 Use seaborn library to load `tips` dataset. Find the following from the dataset for the columns `total_bill` and `tip`:\n",
        "#  (i) Write a Python function that calculates their skewness. approximately symmetric.\n",
        "#   (ii) Create a program that determines whether the columns exhibit positive skewness, negative skewness, or is\n",
        "#    (iii) Write a function that calculates the covariance between two columns.\n",
        "#     (iv) Implement a Python program that calculates the Pearson correlation coefficient between two columns.\n",
        "#      (v) Write a script to visualize the correlation between two specific columns in a Pandas DataFrame using scatter plots. Write a Python function to calculate the probability density function (PDF) of a continuous random variable for a given normal distribution. Create a program to calculate the cumulative distribution function (CDF) of exponential distribution. Write a Python function to calculate the probability mass function (PMF) of Poisson distribution.Practice Questions"
      ],
      "metadata": {
        "id": "c9TiNhzfrmVv"
      },
      "execution_count": null,
      "outputs": []
    },
    {
      "cell_type": "code",
      "source": [
        "3. Write a Python class representing a discrete random variable with methods to calculate its expected value and variance.\n"
      ],
      "metadata": {
        "id": "tSojfBmM1Caf"
      },
      "execution_count": null,
      "outputs": []
    },
    {
      "cell_type": "code",
      "source": [
        "class DiscreteRandomVariable:\n",
        "    def __init__(self, pmf):\n",
        "        self.pmf = pmf\n",
        "\n",
        "    def expected_value(self):\n",
        "        return sum(x * p for x, p in self.pmf.items())\n",
        "\n",
        "    def variance(self):\n",
        "        expected_x_squared = sum(x**2 * p for x, p in self.pmf.items())\n",
        "        return expected_x_squared - self.expected_value()**2\n",
        "\n",
        "# Simulating a fair six-sided die\n",
        "die_pmf = {1: 1/6, 2: 1/6, 3: 1/6, 4: 1/6, 5: 1/6, 6: 1/6}\n",
        "die_rv = DiscreteRandomVariable(die_pmf)\n",
        "\n",
        "print(\"Expected value of a fair die:\", die_rv.expected_value())\n",
        "print(\"Variance of a fair die:\", die_rv.variance())"
      ],
      "metadata": {
        "colab": {
          "base_uri": "https://localhost:8080/"
        },
        "id": "QxiefURas06M",
        "outputId": "5c9af52c-77cd-488d-c838-a5d3673439fe"
      },
      "execution_count": 18,
      "outputs": [
        {
          "output_type": "stream",
          "name": "stdout",
          "text": [
            "Expected value of a fair die: 3.5\n",
            "Variance of a fair die: 2.916666666666666\n"
          ]
        }
      ]
    },
    {
      "cell_type": "code",
      "source": [
        "4. Implement a program to simulate the rolling of a fair six-sided die and calculate the expected value and variance of the outcomes.\n"
      ],
      "metadata": {
        "id": "25Eo8nyX1F_K"
      },
      "execution_count": null,
      "outputs": []
    },
    {
      "cell_type": "code",
      "source": [
        "import numpy as np\n",
        "\n",
        "def generate_random_samples(distribution, params, size):\n",
        "    if distribution == 'binomial':\n",
        "        return np.random.binomial(n=params[0], p=params[1], size=size)\n",
        "    elif distribution == 'poisson':\n",
        "        return np.random.poisson(lam=params[0], size=size)\n",
        "    else:\n",
        "        raise ValueError(\"Invalid distribution\")\n",
        "\n",
        "# Example: Generating 1000 samples from a binomial distribution with n=10, p=0.5\n",
        "samples = generate_random_samples('binomial', (10, 0.5), 1000)\n",
        "print(\"Mean:\", np.mean(samples))\n",
        "print(\"Variance:\", np.var(samples))"
      ],
      "metadata": {
        "colab": {
          "base_uri": "https://localhost:8080/"
        },
        "id": "8BP63vaZs1ig",
        "outputId": "ee92d16f-d4f9-40d0-bd9c-311d76427f97"
      },
      "execution_count": 19,
      "outputs": [
        {
          "output_type": "stream",
          "name": "stdout",
          "text": [
            "Mean: 4.982\n",
            "Variance: 2.6296760000000003\n"
          ]
        }
      ]
    },
    {
      "cell_type": "code",
      "source": [
        "5 Create a Python function to generate random samples from a given probability distribution (e.g., binomial, Poisson) and calculate their mean and variance.\n"
      ],
      "metadata": {
        "id": "CRcVHIhs1JVv"
      },
      "execution_count": null,
      "outputs": []
    },
    {
      "cell_type": "code",
      "source": [
        "import numpy as np\n",
        "\n",
        "# Generate 1000 random numbers from a normal distribution with mean 0 and standard deviation 1\n",
        "samples = np.random.randn(1000)\n",
        "\n",
        "print(\"Mean:\", np.mean(samples))\n",
        "print(\"Variance:\", np.var(samples))\n",
        "print(\"Standard Deviation:\", np.std(samples))"
      ],
      "metadata": {
        "colab": {
          "base_uri": "https://localhost:8080/"
        },
        "id": "YivvfCS_tENw",
        "outputId": "33a06947-d797-42d0-9ec0-f61cb17d1956"
      },
      "execution_count": 21,
      "outputs": [
        {
          "output_type": "stream",
          "name": "stdout",
          "text": [
            "Mean: -0.006668071752900474\n",
            "Variance: 1.0451460117099718\n",
            "Standard Deviation: 1.0223238291803491\n"
          ]
        }
      ]
    },
    {
      "cell_type": "code",
      "source": [
        "#6 Write a Python script to generate random numbers from a Gaussian (normal) distribution and compute the mean, variance, and standard deviation of the samples.\n",
        ""
      ],
      "metadata": {
        "id": "tT8AdV8G1SyZ"
      },
      "execution_count": null,
      "outputs": []
    },
    {
      "cell_type": "code",
      "source": [
        "import seaborn as sns\n",
        "import pandas as pd\n",
        "\n",
        "# Load the tips dataset\n",
        "tips = sns.load_dataset(\"tips\")\n",
        "\n",
        "def calculate_skewness(data):\n",
        "    return data.skew()\n",
        "\n",
        "def is_skewed(data):\n",
        "    skewness = calculate_skewness(data)\n",
        "    if skewness > 0:\n",
        "        return \"Positive Skewness\"\n",
        "    elif skewness < 0:\n",
        "        return \"Negative Skewness\"\n",
        "    else:\n",
        "        return \"Approximately Symmetric\"\n",
        "\n",
        "def calculate_covariance(x, y):\n",
        "    return np.cov(x, y)[0, 1]\n",
        "\n",
        "def calculate_pearson_correlation(x, y):\n",
        "    return np.corrcoef(x, y)[0, 1]\n",
        "\n",
        "# Calculate skewness for 'total_bill' and 'tip'\n",
        "print(\"Skewness of total_bill:\", is_skewed(tips['total_bill']))\n",
        "print(\"Skewness of tip:\", is_skewed(tips['tip']))\n",
        "\n",
        "# Calculate covariance between 'total_bill' and 'tip'\n",
        "covariance = calculate_covariance(tips['total_bill'], tips['tip'])\n",
        "print(\"Covariance:\", covariance)\n",
        "\n",
        "# Calculate Pearson correlation coefficient between 'total_bill' and 'tip'\n",
        "correlation = calculate_pearson_correlation(tips['total_bill'], tips['tip'])\n",
        "print(\"Pearson Correlation Coefficient:\", correlation)\n",
        "\n",
        "# Visualize the correlation\n",
        "sns.scatterplot(x='total_bill', y='tip', data=tips)"
      ],
      "metadata": {
        "colab": {
          "base_uri": "https://localhost:8080/",
          "height": 537
        },
        "id": "VPN6aRXdtbJv",
        "outputId": "dfbcae47-0561-48b3-ea02-e58b7dcc75c2"
      },
      "execution_count": 22,
      "outputs": [
        {
          "output_type": "stream",
          "name": "stdout",
          "text": [
            "Skewness of total_bill: Positive Skewness\n",
            "Skewness of tip: Positive Skewness\n",
            "Covariance: 8.323501629224854\n",
            "Pearson Correlation Coefficient: 0.6757341092113641\n"
          ]
        },
        {
          "output_type": "execute_result",
          "data": {
            "text/plain": [
              "<Axes: xlabel='total_bill', ylabel='tip'>"
            ]
          },
          "metadata": {},
          "execution_count": 22
        },
        {
          "output_type": "display_data",
          "data": {
            "text/plain": [
              "<Figure size 640x480 with 1 Axes>"
            ],
            "image/png": "[encoded data removed]"
          },
          "metadata": {}
        }
      ]
    },
    {
      "cell_type": "code",
      "source": [
        "# 7\n",
        "# Use seaborn library to load `tips` dataset. Find the following from the dataset for the columns `total_bill` and `tip`:\n",
        "#  (i) Write a Python function that calculates their skewness. approximately symmetric.\n",
        "#   (ii) Create a program that determines whether the columns exhibit positive skewness, negative skewness, or is\n",
        "#    (iii) Write a function that calculates the covariance between two columns.\n",
        "#     (iv) Implement a Python program that calculates the Pearson correlation coefficient between two columns.\n",
        "#      (v) Write a script to visualize the correlation between two specific columns in a Pandas DataFrame using scatter plots. Write a Python function to calculate the probability density function (PDF) of a continuous random variable for a given normal distribution. Create a program to calculate the cumulative distribution function (CDF) of exponential distribution. Write a Python function to calculate the probability mass function (PMF) of Poisson distribution.Practice Questions"
      ],
      "metadata": {
        "id": "SDJnwluU1jVx"
      },
      "execution_count": null,
      "outputs": []
    },
    {
      "cell_type": "code",
      "source": [
        "[i]"
      ],
      "metadata": {
        "id": "t4C6j5-21r6d"
      },
      "execution_count": null,
      "outputs": []
    },
    {
      "cell_type": "code",
      "source": [
        "import seaborn as sns\n",
        "import pandas as pd\n",
        "import matplotlib.pyplot as plt\n",
        "\n",
        "# Load the tips dataset\n",
        "tips = sns.load_dataset(\"tips\")\n",
        "\n",
        "# Visualize the correlation between 'total_bill' and 'tip'\n",
        "sns.scatterplot(x='total_bill', y='tip', data=tips)\n",
        "plt.title('Correlation between Total Bill and Tip')\n",
        "plt.show()"
      ],
      "metadata": {
        "colab": {
          "base_uri": "https://localhost:8080/",
          "height": 472
        },
        "id": "rdSSy4g1uDsI",
        "outputId": "d01db7bc-03ad-4c79-e84e-4aeebf1cc575"
      },
      "execution_count": 24,
      "outputs": [
        {
          "output_type": "display_data",
          "data": {
            "text/plain": [
              "<Figure size 640x480 with 1 Axes>"
            ],
            "image/png": "[encoded data removed]"
          },
          "metadata": {}
        }
      ]
    },
    {
      "cell_type": "code",
      "source": [
        "[ii]"
      ],
      "metadata": {
        "id": "J6XQZ83K2DxV"
      },
      "execution_count": null,
      "outputs": []
    },
    {
      "cell_type": "code",
      "source": [
        "import seaborn as sns\n",
        "import pandas as pd\n",
        "\n",
        "def calculate_skewness(data):\n",
        "\n",
        "\n",
        "    return data.skew()\n",
        "\n",
        "# Load the tips dataset\n",
        "tips = sns.load_dataset(\"tips\")\n",
        "\n",
        "# Calculate skewness for 'total_bill' and 'tip'\n",
        "skewness_total_bill = calculate_skewness(tips['total_bill'])\n",
        "skewness_tip = calculate_skewness(tips['tip'])\n",
        "\n",
        "print(\"Skewness of total_bill:\", skewness_total_bill)\n",
        "print(\"Skewness of tip:\", skewness_tip)\n",
        "\n",
        "# Determine if the columns are skewed\n",
        "if skewness_total_bill > 0.5:\n",
        "    print(\"total_bill is positively skewed\")\n",
        "elif skewness_total_bill < -0.5:\n",
        "    print(\"total_bill is negatively skewed\")\n",
        "else:\n",
        "    print(\"total_bill is approximately symmetric\")\n",
        "\n",
        "if skewness_tip > 0.5:\n",
        "    print(\"tip is positively skewed\")\n",
        "elif skewness_tip < -0.5:\n",
        "    print(\"tip is negatively skewed\")\n",
        "else:\n",
        "    print(\"tip is approximately symmetric\")"
      ],
      "metadata": {
        "colab": {
          "base_uri": "https://localhost:8080/"
        },
        "id": "4Ptco7cHuUuX",
        "outputId": "2a7dc1dd-af6a-4bf4-9f3f-2833543fc369"
      },
      "execution_count": 25,
      "outputs": [
        {
          "output_type": "stream",
          "name": "stdout",
          "text": [
            "Skewness of total_bill: 1.1332130376158205\n",
            "Skewness of tip: 1.4654510370979401\n",
            "total_bill is positively skewed\n",
            "tip is positively skewed\n"
          ]
        }
      ]
    },
    {
      "cell_type": "code",
      "source": [
        "[iii]"
      ],
      "metadata": {
        "id": "_RXqmTT62Abf"
      },
      "execution_count": null,
      "outputs": []
    },
    {
      "cell_type": "code",
      "source": [
        "import numpy as np\n",
        "\n",
        "def calculate_covariance(x, y):\n",
        "\n",
        "\n",
        "  return np.cov(x, y)[0, 1]\n",
        "\n",
        "# Load the tips dataset\n",
        "tips = sns.load_dataset(\"tips\")\n",
        "\n",
        "# Calculate covariance between 'total_bill' and 'tip'\n",
        "covariance = calculate_covariance(tips['total_bill'], tips['tip'])\n",
        "print(\"Covariance between total_bill and tip:\", covariance)"
      ],
      "metadata": {
        "colab": {
          "base_uri": "https://localhost:8080/"
        },
        "id": "2g2GpHTE2AX6",
        "outputId": "c0134205-2dbb-4233-d1d1-7600c6515161"
      },
      "execution_count": 26,
      "outputs": [
        {
          "output_type": "stream",
          "name": "stdout",
          "text": [
            "Covariance between total_bill and tip: 8.323501629224854\n"
          ]
        }
      ]
    },
    {
      "cell_type": "code",
      "source": [
        "[iv]"
      ],
      "metadata": {
        "id": "p7fFhzh12AV0"
      },
      "execution_count": null,
      "outputs": []
    },
    {
      "cell_type": "code",
      "source": [
        "import numpy as np\n",
        "\n",
        "def calculate_pearson_correlation(x, y):\n",
        "\n",
        "\n",
        "  return np.corrcoef(x, y)[0, 1]\n",
        "\n",
        "# Load the tips dataset\n",
        "tips = sns.load_dataset(\"tips\")\n",
        "\n",
        "# Calculate Pearson correlation coefficient between 'total_bill' and 'tip'\n",
        "correlation = calculate_pearson_correlation(tips['total_bill'], tips['tip'])\n",
        "print(\"Pearson correlation coefficient between total_bill and tip:\", correlation)"
      ],
      "metadata": {
        "colab": {
          "base_uri": "https://localhost:8080/"
        },
        "id": "zWhvF3RD2ATf",
        "outputId": "c7ba0f89-d1bc-404b-b0fe-f3be4c49b3f6"
      },
      "execution_count": 28,
      "outputs": [
        {
          "output_type": "stream",
          "name": "stdout",
          "text": [
            "Pearson correlation coefficient between total_bill and tip: 0.6757341092113641\n"
          ]
        }
      ]
    },
    {
      "cell_type": "code",
      "source": [],
      "metadata": {
        "id": "gfRlVQIH2ART"
      },
      "execution_count": null,
      "outputs": []
    },
    {
      "cell_type": "code",
      "source": [],
      "metadata": {
        "id": "6oWSU6Mu2AOt"
      },
      "execution_count": null,
      "outputs": []
    },
    {
      "cell_type": "code",
      "source": [],
      "metadata": {
        "id": "jUwVpBiEvW3s"
      },
      "execution_count": null,
      "outputs": []
    },
    {
      "cell_type": "code",
      "source": [
        "8.Write a Python function to calculate the probability density function (PDF) of a continuous random variable for a given normal distribution. ."
      ],
      "metadata": {
        "id": "ByH6bxh-2pb2"
      },
      "execution_count": null,
      "outputs": []
    },
    {
      "cell_type": "code",
      "source": [
        "Probability Density Function (PDF) of a Normal Distribution"
      ],
      "metadata": {
        "id": "IbcPRgOd2pZV"
      },
      "execution_count": null,
      "outputs": []
    },
    {
      "cell_type": "code",
      "source": [
        "import numpy as np\n",
        "import matplotlib.pyplot as plt\n",
        "from scipy.stats import norm\n",
        "\n",
        "def normal_pdf(x, mu, sigma):\n",
        "\n",
        "\n",
        "  return 1 / (sigma * np.sqrt(2 * np.pi)) * np.exp(-0.5 * ((x - mu) / sigma)**2)\n",
        "\n",
        "# Example: Plot the PDF of a normal distribution with mean 0 and standard deviation 1\n",
        "x = np.linspace(-3, 3, 100)\n",
        "y = normal_pdf(x, 0, 1)\n",
        "plt.plot(x, y)\n",
        "plt.title('Normal Distribution PDF')\n",
        "plt.xlabel('x')\n",
        "plt.ylabel('PDF(x)')\n",
        "plt.show()"
      ],
      "metadata": {
        "colab": {
          "base_uri": "https://localhost:8080/",
          "height": 472
        },
        "id": "_yi737uy2pXV",
        "outputId": "d86a27e4-f753-45fc-9979-9fe662981c92"
      },
      "execution_count": 30,
      "outputs": [
        {
          "output_type": "display_data",
          "data": {
            "text/plain": [
              "<Figure size 640x480 with 1 Axes>"
            ],
            "image/png": "[encoded data removed]"
          },
          "metadata": {}
        }
      ]
    },
    {
      "cell_type": "code",
      "source": [
        "9. Create a program to  calculate the cumulative distribution function (CDF) of exponential distribution"
      ],
      "metadata": {
        "id": "RGn0Nais4OzN"
      },
      "execution_count": null,
      "outputs": []
    },
    {
      "cell_type": "code",
      "source": [
        "Cumulative Distribution Function (CDF) of Exponential Distribution"
      ],
      "metadata": {
        "id": "ZYykEqaH2pVW"
      },
      "execution_count": null,
      "outputs": []
    },
    {
      "cell_type": "code",
      "source": [
        "import numpy as np\n",
        "import matplotlib.pyplot as plt\n",
        "from scipy.stats import expon\n",
        "\n",
        "def exponential_cdf(x, lam):\n",
        "\n",
        "\n",
        "  return 1 - np.exp(-lam * x)\n",
        "\n",
        "# Example: Plot the CDF of an exponential distribution with rate parameter 2\n",
        "x = np.linspace(0, 5, 100)\n",
        "y = exponential_cdf(x, 2)\n",
        "plt.plot(x, y)\n",
        "plt.title('Exponential Distribution CDF')\n",
        "plt.xlabel('x')\n",
        "plt.ylabel('CDF(x)')\n",
        "plt.show()"
      ],
      "metadata": {
        "colab": {
          "base_uri": "https://localhost:8080/",
          "height": 472
        },
        "id": "Fjmzs5hA2pS7",
        "outputId": "6ac9abd9-e5dd-4db6-e9d4-46eadf3a165e"
      },
      "execution_count": 31,
      "outputs": [
        {
          "output_type": "display_data",
          "data": {
            "text/plain": [
              "<Figure size 640x480 with 1 Axes>"
            ],
            "image/png": "[encoded data removed]"
          },
          "metadata": {}
        }
      ]
    },
    {
      "cell_type": "code",
      "source": [
        " #10  Write a Python function to calculate the probability mass function (PMF) of Poisson distribution.\n",
        " #Probability Mass Function (PMF) of Poisson Distribution\n",
        "\n",
        "import numpy as np\n",
        "import matplotlib.pyplot as plt\n",
        "from scipy.stats import poisson\n",
        "\n",
        "def poisson_pmf(k, lam):\n",
        "\n",
        "\n",
        "  return np.exp(-lam) * lam**k / np.math.factorial(k)\n",
        "\n",
        "# Example: Plot the PMF of a Poisson distribution with rate parameter 3\n",
        "x = np.arange(10)\n",
        "y = poisson.pmf(x, 3)\n",
        "plt.bar(x, y)\n",
        "plt.title('Poisson Distribution PMF')\n",
        "plt.xlabel('k')\n",
        "plt.ylabel('PMF(k)')\n",
        "plt.show()"
      ],
      "metadata": {
        "colab": {
          "base_uri": "https://localhost:8080/",
          "height": 472
        },
        "id": "-oV1mu7D3TPA",
        "outputId": "35a4af9a-4a77-420f-e8b5-22569b55bad8"
      },
      "execution_count": 32,
      "outputs": [
        {
          "output_type": "display_data",
          "data": {
            "text/plain": [
              "<Figure size 640x480 with 1 Axes>"
            ],
            "image/png": "[encoded data removed]"
          },
          "metadata": {}
        }
      ]
    },
    {
      "cell_type": "code",
      "source": [
        "11.\n",
        "\n",
        "\n",
        "A company wants to test if a new website layout leads to a higher conversion rate (percentage of visitors who make a purchase). They collect data from the old and new layouts to compare. To generate the data use the following command: ```python import numpy as np\n",
        "# 50 purchases out of 1000 visitors old_layout = np.array([1] * 50 + [0] * 950) # 70 purchases out of 1000 visitors  new_layout = np.array([1] * 70 + [0] * 930) ```\n",
        "# Apply z-test to find which layout is successful."
      ],
      "metadata": {
        "id": "f7Y48-zU3ZKn"
      },
      "execution_count": null,
      "outputs": []
    },
    {
      "cell_type": "code",
      "source": [
        "import numpy as np\n",
        "from statsmodels.stats.proportion import proportions_ztest\n",
        "\n",
        "# Sample sizes and number of successes for each layout\n",
        "n1 = 1000\n",
        "n2 = 1000\n",
        "x1 = 50\n",
        "x2 = 70\n",
        "\n",
        "# Perform the z-test\n",
        "z_stat, p_value = proportions_ztest([x1, x2], [n1, n2], alternative='larger')\n",
        "\n",
        "print(\"Z-statistic:\", z_stat)\n",
        "print(\"P-value:\", p_value)\n",
        "\n",
        "# Set the significance level (alpha)\n",
        "alpha = 0.05\n",
        "\n",
        "# Compare the p-value with the significance level\n",
        "if p_value < alpha:\n",
        "    print(\"Reject the null hypothesis. The new layout has a significantly higher conversion rate.\")\n",
        "else:\n",
        "    print(\"Fail to reject the null hypothesis. There is no significant difference in conversion rates.\")"
      ],
      "metadata": {
        "colab": {
          "base_uri": "https://localhost:8080/"
        },
        "id": "wt2_S-I54uyf",
        "outputId": "8d2707ad-75b0-47e0-8281-6c0458a4bbef"
      },
      "execution_count": 33,
      "outputs": [
        {
          "output_type": "stream",
          "name": "stdout",
          "text": [
            "Z-statistic: -1.883108942886774\n",
            "P-value: 0.9701571972337869\n",
            "Fail to reject the null hypothesis. There is no significant difference in conversion rates.\n"
          ]
        }
      ]
    },
    {
      "cell_type": "code",
      "source": [],
      "metadata": {
        "id": "mit_z-mt4vig"
      },
      "execution_count": null,
      "outputs": []
    },
    {
      "cell_type": "code",
      "source": [
        "12.A tutoring service claims that its program improves students'\n",
        "#exam scores. A sample of students who participated in the program was taken, and their scores before and after the program were recorded.\n",
        "#Use the below code to generate samples of respective arrays of marks: ```python before_program = np.array([75, 80, 85, 70, 90, 78, 92, 88, 82, 87]) after_program = np.array([80, 85, 90, 80, 92, 80, 95, 90, 85, 88]) ``` Use z-test to find if the claims made by tutor are true or false"
      ],
      "metadata": {
        "id": "CdV_BKKk5K02"
      },
      "execution_count": null,
      "outputs": []
    },
    {
      "cell_type": "code",
      "source": [
        "import numpy as np\n",
        "import scipy.stats as stats\n",
        "\n",
        "# Given data\n",
        "before_program = np.array([75, 80, 85, 70, 90, 78, 92, 88, 82, 87])\n",
        "after_program = np.array([80, 85, 90, 80, 92, 80, 95, 90, 85, 88])\n",
        "\n",
        "# Calculate the difference between the scores\n",
        "difference = after_program - before_program\n",
        "\n",
        "# Perform the paired t-test\n",
        "t_stat, p_value = stats.ttest_rel(after_program, before_program)\n",
        "\n",
        "print(\"t-statistic:\", t_stat)\n",
        "print(\"p-value:\", p_value)\n",
        "\n",
        "# Set the significance level (alpha)\n",
        "alpha = 0.05\n",
        "\n",
        "# Compare the p-value with the significance level\n",
        "if p_value < alpha:\n",
        "    print(\"Reject the null hypothesis. The tutoring program significantly improves scores.\")\n",
        "else:\n",
        "    print(\"Fail to reject the null hypothesis. There is no significant difference in scores.\")"
      ],
      "metadata": {
        "colab": {
          "base_uri": "https://localhost:8080/"
        },
        "id": "ikCOtpJZ5XVR",
        "outputId": "cb4db81a-2201-4c6e-b0f0-7f1ea711a393"
      },
      "execution_count": 34,
      "outputs": [
        {
          "output_type": "stream",
          "name": "stdout",
          "text": [
            "t-statistic: 4.593190894944668\n",
            "p-value: 0.0013030932910086035\n",
            "Reject the null hypothesis. The tutoring program significantly improves scores.\n"
          ]
        }
      ]
    },
    {
      "cell_type": "code",
      "source": [
        "# 13.\n",
        "# A pharmaceutical company wants to determine if a new drug is effective in reducing blood pressure. They\n",
        "# conduct a study and record blood pressure measurements before and after administering the drug.\n",
        "\n",
        "\n",
        "# Use the below code to generate samples of respective arrays of blood pressure:\n",
        "\n",
        "\n",
        "# ```python\n",
        "\n",
        "# before_drug = np.array([145, 150, 140, 135, 155, 160, 152, 148, 130, 138])\n",
        "\n",
        "# after_drug = np.array([130, 140, 132, 128, 145, 148, 138, 136, 125, 130])\n",
        "\n",
        "#   ```\n",
        "\n",
        "\n",
        "# Implement z-test to find if the drug really works or not"
      ],
      "metadata": {
        "id": "6PN1FoER5Xxj"
      },
      "execution_count": null,
      "outputs": []
    },
    {
      "cell_type": "code",
      "source": [
        "import numpy as np\n",
        "import scipy.stats as stats\n",
        "\n",
        "# Given data\n",
        "before_drug = np.array([145, 150, 140, 135, 155, 160, 152, 148, 130, 138])\n",
        "after_drug = np.array([130, 140, 132, 128, 145, 148, 138, 136, 125, 130])\n",
        "\n",
        "# Calculate the difference between the scores\n",
        "difference = before_drug - after_drug\n",
        "\n",
        "# Perform the paired t-test\n",
        "t_stat, p_value = stats.ttest_rel(before_drug, after_drug)\n",
        "\n",
        "print(\"t-statistic:\", t_stat)\n",
        "print(\"p-value:\", p_value)\n",
        "\n",
        "# Set the significance level (alpha)\n",
        "alpha = 0.05\n",
        "\n",
        "# Compare the p-value with the significance level\n",
        "if p_value < alpha:\n",
        "    print(\"Reject the null hypothesis. The drug is effective in reducing blood pressure.\")\n",
        "else:\n",
        "    print(\"Fail to reject the null hypothesis. There is no significant difference in blood pressure.\")"
      ],
      "metadata": {
        "colab": {
          "base_uri": "https://localhost:8080/"
        },
        "id": "8TZ7gv6z5f02",
        "outputId": "90cb9648-4054-4c43-f0e5-fd5dfa96bb8d"
      },
      "execution_count": 35,
      "outputs": [
        {
          "output_type": "stream",
          "name": "stdout",
          "text": [
            "t-statistic: 10.04987562112089\n",
            "p-value: 3.433031432681152e-06\n",
            "Reject the null hypothesis. The drug is effective in reducing blood pressure.\n"
          ]
        }
      ]
    },
    {
      "cell_type": "code",
      "source": [
        "14"
      ],
      "metadata": {
        "id": "DYS86eah5k31"
      },
      "execution_count": null,
      "outputs": []
    },
    {
      "cell_type": "code",
      "source": [
        "# A customer service department claims that their average response time is less than 5 minutes. A sample\n",
        "# of recent customer interactions was taken, and the response times were recorded.\n",
        "\n",
        "\n",
        "# Implement the below code to generate the array of response time:\n",
        "\n",
        "# ```python\n",
        "\n",
        "# response_times = np.array([4.3, 3.8, 5.1, 4.9, 4.7, 4.2, 5.2, 4.5, 4.6, 4.4])\n",
        "\n",
        "# ```\n",
        "\n",
        "# Implement z-test to find the claims made by customer service department are tru or false"
      ],
      "metadata": {
        "id": "hBmHbhw85tkD"
      },
      "execution_count": null,
      "outputs": []
    },
    {
      "cell_type": "code",
      "source": [
        "import numpy as np\n",
        "import scipy.stats as stats\n",
        "\n",
        "# Given data\n",
        "response_times = np.array([4.3, 3.8, 5.1, 4.9, 4.7, 4.2, 5.2, 4.5, 4.6, 4.4])\n",
        "\n",
        "# Calculate the sample mean and standard deviation\n",
        "sample_mean = np.mean(response_times)\n",
        "sample_std = np.std(response_times, ddof=1)\n",
        "\n",
        "# Set the hypothesized population mean\n",
        "population_mean = 5\n",
        "\n",
        "# Calculate the t-statistic\n",
        "t_statistic = (sample_mean - population_mean) / (sample_std / np.sqrt(len(response_times)))\n",
        "\n",
        "# Calculate the degrees of freedom\n",
        "df = len(response_times) - 1\n",
        "\n",
        "# Calculate the p-value\n",
        "p_value = stats.t.sf(t_statistic, df)\n",
        "\n",
        "# Set the significance level (alpha)\n",
        "alpha = 0.05\n",
        "\n",
        "# Compare the p-value with the significance level\n",
        "if p_value < alpha:\n",
        "    print(\"Reject the null hypothesis. The average response time is significantly less than 5 minutes.\")\n",
        "else:\n",
        "    print(\"Fail to reject the null hypothesis. There is no significant difference in average response time.\")"
      ],
      "metadata": {
        "colab": {
          "base_uri": "https://localhost:8080/"
        },
        "id": "MvzB_4BV5tiA",
        "outputId": "2122c98a-0894-4973-b350-53a6c83b7255"
      },
      "execution_count": 36,
      "outputs": [
        {
          "output_type": "stream",
          "name": "stdout",
          "text": [
            "Fail to reject the null hypothesis. There is no significant difference in average response time.\n"
          ]
        }
      ]
    },
    {
      "cell_type": "code",
      "source": [
        "15"
      ],
      "metadata": {
        "id": "oHQ9OWsr53hC"
      },
      "execution_count": null,
      "outputs": []
    },
    {
      "cell_type": "code",
      "source": [
        "A company is testing two different website layouts to see which one leads to higher click-through rates.\n",
        "Write a Python function to perform an A/B test analysis, including calculating the t-statistic, degrees of\n",
        "freedom, and p-value.\n",
        "\n",
        "\n",
        "Use the following data:\n",
        "\n",
        "```python\n",
        "\n",
        "layout_a_clicks = [28, 32, 33, 29, 31, 34, 30, 35, 36, 37]\n",
        "\n",
        "layout_b_clicks = [40, 41, 38, 42, 39, 44, 43, 41, 45, 47]"
      ],
      "metadata": {
        "id": "bWvKtnUB5tf7"
      },
      "execution_count": null,
      "outputs": []
    },
    {
      "cell_type": "code",
      "source": [
        "import numpy as np\n",
        "import scipy.stats as stats\n",
        "\n",
        "def ab_test(group_a, group_b):\n",
        "    \"\"\"\n",
        "    Performs an A/B test to compare two groups.\n",
        "\n",
        "    Args:\n",
        "        group_a: A list or array of values for group A.\n",
        "        group_b: A list or array of values for group B.\n",
        "\n",
        "    Returns:\n",
        "        A tuple containing the t-statistic, degrees of freedom, and p-value.\n",
        "    \"\"\"\n",
        "\n",
        "    # Calculate sample sizes, means, and standard deviations\n",
        "    n1 = len(group_a)\n",
        "    n2 = len(group_b)\n",
        "    mean1 = np.mean(group_a)\n",
        "    mean2 = np.mean(group_b)\n",
        "    std1 = np.std(group_a, ddof=1)\n",
        "    std2 = np.std(group_b, ddof=1)\n",
        "\n",
        "    # Calculate pooled standard deviation\n",
        "    pooled_std = np.sqrt(((n1 - 1) * std1**2 + (n2 - 1) * std2**2) / (n1 + n2 - 2))\n",
        "\n",
        "    # Calculate t-statistic\n",
        "    t_statistic = (mean1 - mean2) / (pooled_std * np.sqrt(1/n1 + 1/n2))\n",
        "\n",
        "    # Calculate degrees of freedom\n",
        "    df = n1 + n2 - 2\n",
        "\n",
        "    # Calculate p-value\n",
        "    p_value = stats.t.sf(abs(t_statistic), df) * 2  # Two-tailed test\n",
        "\n",
        "    return t_statistic, df, p_value\n",
        "\n",
        "# Example usage with the given data\n",
        "layout_a_clicks = [28, 32, 33, 29, 31, 34, 30, 35, 36, 37]\n",
        "layout_b_clicks = [40, 41, 38, 42, 39, 44, 43, 41, 45, 47]\n",
        "\n",
        "t_stat, df, p_value = ab_test(layout_a_clicks, layout_b_clicks)\n",
        "\n",
        "print(\"t-statistic:\", t_stat)\n",
        "print(\"Degrees of Freedom:\", df)\n",
        "print(\"p-value:\", p_value)\n",
        "\n",
        "# Set the significance level (alpha)\n",
        "alpha = 0.05\n",
        "\n",
        "# Compare the p-value with the significance level\n",
        "if p_value < alpha:\n",
        "    print(\"Reject the null hypothesis. Layout B has significantly higher click-through rates.\")\n",
        "else:\n",
        "    print(\"Fail to reject the null hypothesis. There is no significant difference in click-through rates.\")"
      ],
      "metadata": {
        "colab": {
          "base_uri": "https://localhost:8080/"
        },
        "id": "yGbLdU8Z5tdw",
        "outputId": "b9fcf820-a40d-4e7e-bead-470eb8f3f2b0"
      },
      "execution_count": 37,
      "outputs": [
        {
          "output_type": "stream",
          "name": "stdout",
          "text": [
            "t-statistic: -7.298102156175071\n",
            "Degrees of Freedom: 18\n",
            "p-value: 8.833437608301987e-07\n",
            "Reject the null hypothesis. Layout B has significantly higher click-through rates.\n"
          ]
        }
      ]
    },
    {
      "cell_type": "code",
      "source": [
        "16"
      ],
      "metadata": {
        "id": "D9e1haAh5tbr"
      },
      "execution_count": null,
      "outputs": []
    },
    {
      "cell_type": "code",
      "source": [
        "A pharmaceutical company wants to determine if a new drug is more effective than an existing drug in\n",
        "reducing cholesterol levels. Create a program to analyze the clinical trial data and calculate the tstatistic and p-value for the treatment effect.\n",
        "\n",
        "\n",
        "Use the following data of cholestrol level:\n",
        "\n",
        "```python\n",
        "\n",
        "existing_drug_levels = [180, 182, 175, 185, 178, 176, 172, 184, 179, 183]\n",
        "\n",
        "new_drug_levels = [170, 172, 165, 168, 175, 173, 170, 178, 172, 176]"
      ],
      "metadata": {
        "id": "PBGeEwVF6CyZ"
      },
      "execution_count": null,
      "outputs": []
    },
    {
      "cell_type": "code",
      "source": [
        "import numpy as np\n",
        "import scipy.stats as stats\n",
        "\n",
        "# Given data\n",
        "existing_drug_levels = [180, 182, 175, 185, 178, 176, 172, 184, 179, 183]\n",
        "new_drug_levels = [170, 172, 165, 168, 175, 173, 170, 178, 172, 176]\n",
        "\n",
        "# Perform the two-sample t-test, assuming equal variances\n",
        "t_statistic, p_value = stats.ttest_ind(existing_drug_levels, new_drug_levels, equal_var=True)\n",
        "\n",
        "print(\"t-statistic:\", t_statistic)\n",
        "print(\"p-value:\", p_value)\n",
        "\n",
        "# Set the significance level (alpha)\n",
        "alpha = 0.05\n",
        "\n",
        "# Compare the p-value with the significance level\n",
        "if p_value < alpha:\n",
        "    print(\"Reject the null hypothesis. The new drug is significantly more effective in reducing cholesterol levels.\")\n",
        "else:\n",
        "    print(\"Fail to reject the null hypothesis. There is no significant difference in cholesterol levels between the two drugs.\")"
      ],
      "metadata": {
        "colab": {
          "base_uri": "https://localhost:8080/"
        },
        "id": "sT8114Pe6DoD",
        "outputId": "64bc5459-cf4d-4c50-abf7-b58a10bb2681"
      },
      "execution_count": 38,
      "outputs": [
        {
          "output_type": "stream",
          "name": "stdout",
          "text": [
            "t-statistic: 4.14048098620866\n",
            "p-value: 0.0006143398442372505\n",
            "Reject the null hypothesis. The new drug is significantly more effective in reducing cholesterol levels.\n"
          ]
        }
      ]
    },
    {
      "cell_type": "code",
      "source": [
        "17. A school district introduces an educational intervention program to improve math scores. Write a Python\n",
        "function to analyze pre- and post-intervention test scores, calculating the t-statistic and p-value to\n",
        "determine if the intervention had a significant impact.\n",
        "\n",
        "\n",
        "Use the following data of test score:\n",
        "\n",
        "\n",
        "  ```python\n",
        "\n",
        "  pre_intervention_scores = [80, 85, 90, 75, 88, 82, 92, 78, 85, 87]\n",
        "\n",
        "  post_intervention_scores = [90, 92, 88, 92, 95, 91, 96, 93, 89, 93]"
      ],
      "metadata": {
        "id": "VXKVMnAI6FkK"
      },
      "execution_count": null,
      "outputs": []
    },
    {
      "cell_type": "code",
      "source": [
        "import numpy as np\n",
        "import scipy.stats as stats\n",
        "\n",
        "def paired_t_test(before_scores, after_scores):\n",
        "    \"\"\"Performs a paired t-test to compare two related samples.\n",
        "\n",
        "    Args:\n",
        "        before_scores: A list or array of scores before the intervention.\n",
        "        after_scores: A list or array of scores after the intervention.\n",
        "\n",
        "    Returns:\n",
        "        A tuple containing the t-statistic, degrees of freedom, and p-value.\n",
        "    \"\"\"\n",
        "\n",
        "    # Convert lists to NumPy arrays to allow element-wise subtraction\n",
        "    before_scores = np.array(before_scores)\n",
        "    after_scores = np.array(after_scores)\n",
        "\n",
        "    difference = after_scores - before_scores\n",
        "    t_statistic, p_value = stats.ttest_1samp(difference, 0)\n",
        "\n",
        "    return t_statistic, len(difference) - 1, p_value\n",
        "\n",
        "# Given data\n",
        "pre_intervention_scores = [80, 85, 90, 75, 88, 82, 92, 78, 85, 87]\n",
        "post_intervention_scores = [90, 92, 88, 92, 95, 91, 96, 93, 89, 93]\n",
        "\n",
        "t_stat, df, p_value = paired_t_test(pre_intervention_scores, post_intervention_scores)\n",
        "\n",
        "print(\"t-statistic:\", t_stat)\n",
        "print(\"Degrees of Freedom:\", df)\n",
        "print(\"p-value:\", p_value)\n",
        "\n",
        "# Set the significance level (alpha)\n",
        "alpha = 0.05\n",
        "\n",
        "# Compare the p-value with the significance level\n",
        "if p_value < alpha:\n",
        "    print(\"Reject the null hypothesis. The intervention significantly improves math scores.\")\n",
        "else:\n",
        "    print(\"Fail to reject the null hypothesis. There is no significant difference in math scores.\")"
      ],
      "metadata": {
        "colab": {
          "base_uri": "https://localhost:8080/"
        },
        "id": "Inia3QOn6Lee",
        "outputId": "701cbd3c-771f-4277-9f30-24482b330958"
      },
      "execution_count": 41,
      "outputs": [
        {
          "output_type": "stream",
          "name": "stdout",
          "text": [
            "t-statistic: 4.42840883965761\n",
            "Degrees of Freedom: 9\n",
            "p-value: 0.0016509548165795493\n",
            "Reject the null hypothesis. The intervention significantly improves math scores.\n"
          ]
        }
      ]
    },
    {
      "cell_type": "code",
      "source": [
        "18.\n",
        "\n",
        "An HR department wants to investigate if there's a gender-based salary gap within the company. Develop\n",
        "a program to analyze salary data, calculate the t-statistic, and determine if there's a statistically\n",
        "significant difference between the average salaries of male and female employees.\n",
        "\n",
        "\n",
        "Use the below code to generate synthetic data:\n",
        "\n",
        "\n",
        "```python\n",
        "\n",
        "# Generate synthetic salary data for male and female employees\n",
        "\n",
        "np.random.seed(0)  # For reproducibility\n",
        "\n",
        "male_salaries = np.random.normal(loc=50000, scale=10000, size=20)\n",
        "\n",
        "female_salaries = np.random.normal(loc=55000, scale=9000, size=20)"
      ],
      "metadata": {
        "id": "vrVA1QYN6La0"
      },
      "execution_count": null,
      "outputs": []
    },
    {
      "cell_type": "code",
      "source": [
        "import numpy as np\n",
        "import scipy.stats as stats\n",
        "\n",
        "# Generate synthetic salary data\n",
        "np.random.seed(0)\n",
        "male_salaries = np.random.normal(loc=50000, scale=10000, size=20)\n",
        "female_salaries = np.random.normal(loc=55000, scale=9000, size=20)\n",
        "\n",
        "# Perform the two-sample t-test, assuming equal variances\n",
        "t_statistic, p_value = stats.ttest_ind(male_salaries, female_salaries, equal_var=True)\n",
        "\n",
        "print(\"t-statistic:\", t_statistic)\n",
        "print(\"p-value:\", p_value)\n",
        "\n",
        "# Set the significance level (alpha)\n",
        "alpha = 0.05\n",
        "\n",
        "# Compare the p-value with the significance level\n",
        "if p_value < alpha:\n",
        "    print(\"Reject the null hypothesis. There is a significant difference in average salaries between male and female employees.\")\n",
        "else:\n",
        "    print(\"Fail to reject the null hypothesis. There is no significant difference in average salaries between male and female employees.\")"
      ],
      "metadata": {
        "colab": {
          "base_uri": "https://localhost:8080/"
        },
        "id": "v805IDNM6LZB",
        "outputId": "eb49de2c-fa15-4943-98b8-7a6fe9a890b1"
      },
      "execution_count": 42,
      "outputs": [
        {
          "output_type": "stream",
          "name": "stdout",
          "text": [
            "t-statistic: 0.06114208969631383\n",
            "p-value: 0.9515665020676465\n",
            "Fail to reject the null hypothesis. There is no significant difference in average salaries between male and female employees.\n"
          ]
        }
      ]
    },
    {
      "cell_type": "code",
      "source": [
        "19.\n",
        "\n",
        "A manufacturer produces two different versions of a product and wants to compare their quality scores. Create a Python function to analyze quality assessment data, calculate the t-statistic, and decide whether there's a significant difference in quality between the two versions.\n",
        " Use the following data: ```python version1_scores = [85, 88, 82, 89, 87, 84, 90, 88, 85, 86, 91, 83, 87, 84, 89, 86, 84, 88, 85, 86, 89, 90, 87, 88, 85] version2_scores = [80, 78, 83, 81, 79, 82, 76, 80, 78, 81, 77, 82, 80, 79, 82, 79, 80, 81, 79, 82, 79, 78, 80, 81, 82]"
      ],
      "metadata": {
        "id": "2mToCcqm8mlx"
      },
      "execution_count": null,
      "outputs": []
    },
    {
      "cell_type": "code",
      "source": [
        "import numpy as np\n",
        "from scipy.stats import ttest_ind\n",
        "\n",
        "def compare_quality_scores(version1_scores, version2_scores):\n",
        "  \"\"\"\n",
        "  Compares the quality scores of two product versions using a t-test.\n",
        "\n",
        "  Args:\n",
        "    version1_scores: A list of quality scores for version 1.\n",
        "    version2_scores: A list of quality scores for version 2.\n",
        "\n",
        "  Returns:\n",
        "    A tuple containing the t-statistic and p-value.\n",
        "  \"\"\"\n",
        "\n",
        "  t_statistic, p_value = ttest_ind(version1_scores, version2_scores)\n",
        "\n",
        "  return t_statistic, p_value\n",
        "\n",
        "# Sample data\n",
        "version1_scores = [85, 88, 82, 89, 87, 84, 90, 88, 85, 86, 91, 83, 87, 84, 89, 86, 84, 88, 85, 86, 89, 90, 87, 88, 85]\n",
        "version2_scores = [80, 78, 83, 81, 79, 82, 76, 80, 78, 81, 77, 82, 80, 79, 82, 79, 80, 81, 79, 82, 79, 78, 80, 81, 82]\n",
        "\n",
        "# Perform the t-test\n",
        "t_stat, p_value = compare_quality_scores(version1_scores, version2_scores)\n",
        "\n",
        "# Set a significance level (alpha)\n",
        "alpha = 0.05\n",
        "\n",
        "# Print the results\n",
        "print(\"t-statistic:\", t_stat)\n",
        "print(\"p-value:\", p_value)\n",
        "\n",
        "# Interpret the results\n",
        "if p_value < alpha:\n",
        "  print(\"There is a statistically significant difference in quality between the two product versions.\")\n",
        "else:\n",
        "  print(\"There is no statistically significant difference in quality between the two product versions.\")"
      ],
      "metadata": {
        "colab": {
          "base_uri": "https://localhost:8080/"
        },
        "id": "f_P2Fvis8ptj",
        "outputId": "0781d5e8-b676-444f-e345-323f4d973be6"
      },
      "execution_count": 48,
      "outputs": [
        {
          "output_type": "stream",
          "name": "stdout",
          "text": [
            "t-statistic: 11.325830417646698\n",
            "p-value: 3.6824250702873965e-15\n",
            "There is a statistically significant difference in quality between the two product versions.\n"
          ]
        }
      ]
    },
    {
      "cell_type": "code",
      "source": [
        "20."
      ],
      "metadata": {
        "id": "LsEjlPLP6LW6"
      },
      "execution_count": null,
      "outputs": []
    },
    {
      "cell_type": "code",
      "source": [
        "A restaurant chain collects customer satisfaction scores for two different branches. Write a program to analyze the scores,\n",
        " calculate the t-statistic, and determine if there's a statistically significant difference in customer satisfaction between the branches.\n",
        "Use the below data of scores: ```python branch_a_scores = [4, 5, 3, 4, 5, 4, 5, 3, 4, 4, 5, 4, 4, 3, 4, 5, 5, 4, 3, 4, 5, 4, 3, 5, 4, 4, 5, 3, 4, 5, 4] branch_b_scores = [3, 4, 2, 3, 4, 3, 4, 2, 3, 3, 4, 3, 3, 2, 3, 4, 4, 3, 2, 3, 4, 3, 2, 4, 3, 3, 4, 2, 3, 4, 3"
      ],
      "metadata": {
        "id": "awccp5U16LVH"
      },
      "execution_count": null,
      "outputs": []
    },
    {
      "cell_type": "code",
      "source": [
        "import numpy as np\n",
        "from scipy import stats\n",
        "\n",
        "# Sample data\n",
        "branch_a_scores = [4, 5, 3, 4, 5, 4, 5, 3, 4, 4, 5, 4, 4, 3, 4, 5, 5, 4, 3, 4, 5, 4, 3, 5, 4, 4, 5, 3, 4, 5, 4]\n",
        "branch_b_scores = [3, 4, 2, 3, 4, 3, 4, 2, 3, 3, 4, 3, 3, 2, 3, 4, 4, 3, 2, 3, 4, 3, 2, 4, 3, 3, 4, 2, 3, 4, 3]\n",
        "\n",
        "# Calculate the t-statistic and p-value using scipy.stats.ttest_ind\n",
        "t_statistic, p_value = stats.ttest_ind(branch_a_scores, branch_b_scores)\n",
        "\n",
        "# Set a significance level (alpha)\n",
        "alpha = 0.05\n",
        "\n",
        "# Print the results\n",
        "print(\"t-statistic:\", t_statistic)\n",
        "print(\"p-value:\", p_value)\n",
        "\n",
        "# Interpret the results\n",
        "if p_value < alpha:\n",
        "    print(\"There is a statistically significant difference in customer satisfaction between the two branches.\")\n",
        "else:\n",
        "    print(\"There is no statistically significant difference in customer satisfaction between the two branches.\")"
      ],
      "metadata": {
        "colab": {
          "base_uri": "https://localhost:8080/"
        },
        "id": "kROTCKOL6LTg",
        "outputId": "2fd3ba6e-2e57-4c06-8d0a-0068fb21bec6"
      },
      "execution_count": 43,
      "outputs": [
        {
          "output_type": "stream",
          "name": "stdout",
          "text": [
            "t-statistic: 5.480077554195743\n",
            "p-value: 8.895290509945655e-07\n",
            "There is a statistically significant difference in customer satisfaction between the two branches.\n"
          ]
        }
      ]
    },
    {
      "cell_type": "code",
      "source": [
        "21"
      ],
      "metadata": {
        "id": "O9q8SvLK6LRg"
      },
      "execution_count": null,
      "outputs": []
    },
    {
      "cell_type": "code",
      "source": [
        "A political analyst wants to determine if there is a significant association between age groups and voter preferences (Candidate A or Candidate B). They collect data from a sample of 500 voters and classify them into different age groups and candidate preferences. Perform a Chi-Square test to determine if there is a significant association between age groups and voter preferences. Use the below code to generate data: ``\n",
        "`python np.random.seed(0) age_groups = np.random.choice(['18-30', '31-50', '51+', '51+'], size=30) voter_preferences = np.random.choice(['Candidate A', 'Candidate B'], size=30)"
      ],
      "metadata": {
        "id": "0jRG_S2_6LQB"
      },
      "execution_count": null,
      "outputs": []
    },
    {
      "cell_type": "code",
      "source": [
        "import numpy as np\n",
        "import pandas as pd\n",
        "from scipy.stats import chi2_contingency\n",
        "\n",
        "# Generate sample data\n",
        "np.random.seed(0)\n",
        "age_groups = np.random.choice(['18-30', '31-50', '51+', '51+'], size=500)\n",
        "voter_preferences = np.random.choice(['Candidate A', 'Candidate B'], size=500)\n",
        "\n",
        "# Create a DataFrame\n",
        "data = pd.DataFrame({'Age Group': age_groups, 'Voter Preference': voter_preferences})\n",
        "\n",
        "# Create a contingency table\n",
        "contingency_table = pd.crosstab(data['Age Group'], data['Voter Preference'])\n",
        "\n",
        "# Perform the Chi-Square test\n",
        "chi2, p, dof, expected = chi2_contingency(contingency_table)\n",
        "\n",
        "# Print the results\n",
        "print(\"Chi-Square Statistic:\", chi2)\n",
        "print(\"p-value:\", p)\n",
        "print(\"Degrees of Freedom:\", dof)\n",
        "print(\"Expected Frequencies:\\n\", expected)\n",
        "\n",
        "# Interpret the results\n",
        "alpha = 0.05  # Significance level\n",
        "if p < alpha:\n",
        "    print(\"There is a significant association between age group and voter preference.\")\n",
        "else:\n",
        "    print(\"There is no significant association between age group and voter preference.\")"
      ],
      "metadata": {
        "colab": {
          "base_uri": "https://localhost:8080/"
        },
        "id": "XW5oVfQO6LNc",
        "outputId": "76f0c712-b4a8-4e50-cce8-679a54d418af"
      },
      "execution_count": 44,
      "outputs": [
        {
          "output_type": "stream",
          "name": "stdout",
          "text": [
            "Chi-Square Statistic: 0.7397720563072268\n",
            "p-value: 0.6908130593907253\n",
            "Degrees of Freedom: 2\n",
            "Expected Frequencies:\n",
            " [[ 65.532  61.468]\n",
            " [ 62.952  59.048]\n",
            " [129.516 121.484]]\n",
            "There is no significant association between age group and voter preference.\n"
          ]
        }
      ]
    },
    {
      "cell_type": "code",
      "source": [
        "22."
      ],
      "metadata": {
        "id": "s0YTC5NE6LLK"
      },
      "execution_count": null,
      "outputs": []
    },
    {
      "cell_type": "code",
      "source": [
        "22. A company conducted a customer satisfaction survey to determine if there is a significant relationship between product satisfaction levels (Satisfied, Neutral, Dissatisfied) and the region where customers are located (East, West, North, South). The survey data is summarized in a contingency table. Conduct a ChiSquare test to determine if there is a significant relationship between product satisfaction levels and customer regions. Sample data: ```python ```\n",
        " #Sample data: Product satisfaction levels (rows) vs. Customer regions (columns) data = np.array([[50, 30, 40, 20], [30, 40, 30, 50], [20, 30, 40, 30]])"
      ],
      "metadata": {
        "id": "gjtZ9Vc46LJY"
      },
      "execution_count": null,
      "outputs": []
    },
    {
      "cell_type": "code",
      "source": [
        "import numpy as np\n",
        "from scipy.stats import chi2_contingency\n",
        "\n",
        "# Sample data\n",
        "data = np.array([[50, 30, 40, 20],\n",
        "                 [30, 40, 30, 50],\n",
        "                 [20, 30, 40, 30]])\n",
        "\n",
        "# Perform the Chi-Square test\n",
        "chi2, p, dof, expected = chi2_contingency(data)\n",
        "\n",
        "# Print the results\n",
        "print(\"Chi-Square Statistic:\", chi2)\n",
        "print(\"p-value:\", p)\n",
        "print(\"Degrees of Freedom:\", dof)\n",
        "print(\"Expected Frequencies:\\n\", expected)\n",
        "\n",
        "# Interpret the results\n",
        "alpha = 0.05  # Significance level\n",
        "if p < alpha:\n",
        "    print(\"There is a significant relationship between product satisfaction levels and customer regions.\")\n",
        "else:\n",
        "    print(\"There is no significant relationship between product satisfaction levels and customer regions.\")"
      ],
      "metadata": {
        "colab": {
          "base_uri": "https://localhost:8080/"
        },
        "id": "_x6Ek3h66LHe",
        "outputId": "8a67bac6-ea1d-402c-dc50-3e904fb0b673"
      },
      "execution_count": 45,
      "outputs": [
        {
          "output_type": "stream",
          "name": "stdout",
          "text": [
            "Chi-Square Statistic: 27.777056277056275\n",
            "p-value: 0.00010349448486004387\n",
            "Degrees of Freedom: 6\n",
            "Expected Frequencies:\n",
            " [[34.14634146 34.14634146 37.56097561 34.14634146]\n",
            " [36.58536585 36.58536585 40.24390244 36.58536585]\n",
            " [29.26829268 29.26829268 32.19512195 29.26829268]]\n",
            "There is a significant relationship between product satisfaction levels and customer regions.\n"
          ]
        }
      ]
    },
    {
      "cell_type": "code",
      "source": [
        "23\n",
        "\n",
        "\n",
        "A company implemented an employee training program to improve job performance (Effective, Neutral, Ineffective). After the training, they collected data from a sample of employees and classified them based on their job performance before and after the training. Perform a Chi-Square test to determine\n",
        " if there is a significant difference between job performance levels before and after the training. Sample data: ```python data = np.array([[50, 30, 20], [30, 40, 30], [20, 30, 40]])"
      ],
      "metadata": {
        "id": "vPRgAEnu6LFO"
      },
      "execution_count": null,
      "outputs": []
    },
    {
      "cell_type": "code",
      "source": [
        "import numpy as np\n",
        "from scipy.stats import chi2_contingency\n",
        "\n",
        "# Sample data\n",
        "data = np.array([[50, 30, 20],\n",
        "                 [30, 40, 30],\n",
        "                 [20, 30, 40]])\n",
        "\n",
        "# Perform the Chi-Square test\n",
        "chi2, p, dof, expected = chi2_contingency(data)\n",
        "\n",
        "# Print the results\n",
        "print(\"Chi-Square Statistic:\", chi2)\n",
        "print(\"p-value:\", p)\n",
        "print(\"Degrees of Freedom:\", dof)\n",
        "print(\"Expected Frequencies:\\n\", expected)\n",
        "\n",
        "# Interpret the results\n",
        "alpha = 0.05  # Significance level\n",
        "if p < alpha:\n",
        "    print(\"There is a significant difference in job performance levels before and after the training.\")\n",
        "else:\n",
        "    print(\"There is no significant difference in job performance levels before and after the training.\")"
      ],
      "metadata": {
        "colab": {
          "base_uri": "https://localhost:8080/"
        },
        "id": "Rm0s4If98DBM",
        "outputId": "9121dc58-f67a-4d85-8a47-283902613c66"
      },
      "execution_count": 46,
      "outputs": [
        {
          "output_type": "stream",
          "name": "stdout",
          "text": [
            "Chi-Square Statistic: 22.161728395061726\n",
            "p-value: 0.00018609719479882557\n",
            "Degrees of Freedom: 4\n",
            "Expected Frequencies:\n",
            " [[34.48275862 34.48275862 31.03448276]\n",
            " [34.48275862 34.48275862 31.03448276]\n",
            " [31.03448276 31.03448276 27.93103448]]\n",
            "There is a significant difference in job performance levels before and after the training.\n"
          ]
        }
      ]
    },
    {
      "cell_type": "code",
      "source": [
        "\n",
        "\n"
      ],
      "metadata": {
        "id": "Xtw09SpL8Gnp"
      },
      "execution_count": null,
      "outputs": []
    },
    {
      "cell_type": "code",
      "source": [
        "24.. A company produces three different versions of a product: Standard, Premium, and Deluxe. The company wants to determine if there is a significant difference in customer satisfaction scores among the three product versions. They conducted a survey and collected customer satisfaction scores for each version from a random sample of customers. Perform an ANOVA test to determine if there is a significant difference in customer satisfaction scores. Use the following data: ```python\n",
        "# Sample data: Customer satisfaction scores for each product version standard_scores = [80, 85, 90, 78, 88, 82, 92, 78, 85, 87] ``` premium_scores = [90, 92, 88, 92, 95, 91, 96, 93, 89, 93] deluxe_scores = [95, 98, 92, 97, 96, 94, 98, 97, 92, 99]"
      ],
      "metadata": {
        "id": "Uc7fsYWe8IPO"
      },
      "execution_count": null,
      "outputs": []
    },
    {
      "cell_type": "code",
      "source": [
        "import numpy as np\n",
        "from scipy.stats import f_oneway\n",
        "\n",
        "# Sample data\n",
        "standard_scores = [80, 85, 90, 78, 88, 82, 92, 78, 85, 87]\n",
        "premium_scores = [90, 92, 88, 92, 95, 91, 96, 93, 89, 93]\n",
        "deluxe_scores = [95, 98, 92, 97, 96, 94, 98, 97, 92, 99]\n",
        "\n",
        "# Perform the ANOVA test\n",
        "f_statistic, p_value = f_oneway(standard_scores, premium_scores, deluxe_scores)\n",
        "\n",
        "# Print the results\n",
        "print(\"F-statistic:\", f_statistic)\n",
        "print(\"p-value:\", p_value)\n",
        "\n",
        "# Interpret the results\n",
        "alpha = 0.05  # Significance level\n",
        "if p_value < alpha:\n",
        "    print(\"There is a significant difference in customer satisfaction scores among the three product versions.\")\n",
        "else:\n",
        "    print(\"There is no significant difference in customer satisfaction scores among the three product versions.\")"
      ],
      "metadata": {
        "colab": {
          "base_uri": "https://localhost:8080/"
        },
        "id": "Qz_EcbNQ8Tmf",
        "outputId": "d95ed624-dc22-41d8-e449-68f383af3cbb"
      },
      "execution_count": 47,
      "outputs": [
        {
          "output_type": "stream",
          "name": "stdout",
          "text": [
            "F-statistic: 27.03556231003039\n",
            "p-value: 3.5786328857349003e-07\n",
            "There is a significant difference in customer satisfaction scores among the three product versions.\n"
          ]
        }
      ]
    },
    {
      "cell_type": "code",
      "source": [],
      "metadata": {
        "id": "ooYD8hA88c82"
      },
      "execution_count": null,
      "outputs": []
    }
  ]
}